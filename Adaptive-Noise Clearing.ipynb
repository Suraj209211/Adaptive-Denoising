{
 "cells": [
  {
   "cell_type": "raw",
   "id": "2869ade4",
   "metadata": {},
   "source": [
    "  "
   ]
  },
  {
   "cell_type": "code",
   "execution_count": 5,
   "id": "900b16c7",
   "metadata": {},
   "outputs": [
    {
     "ename": "SyntaxError",
     "evalue": "invalid syntax (3256238147.py, line 5)",
     "output_type": "error",
     "traceback": [
      "\u001b[0;36m  Cell \u001b[0;32mIn[5], line 5\u001b[0;36m\u001b[0m\n\u001b[0;31m    def__init__(self, filter_size, num_filter):\u001b[0m\n\u001b[0m                                              ^\u001b[0m\n\u001b[0;31mSyntaxError\u001b[0m\u001b[0;31m:\u001b[0m invalid syntax\n"
     ]
    }
   ],
   "source": [
    "import tensorflow as tf\n",
    "from tensorflow.keras import layers\n",
    "\n",
    "class AdaptiveFilter(tf.keras.Model):\n",
    "    def__init__(self, filter_size, num_filter):\n",
    "        self.filter_size = filter_size\n",
    "        self.num_filter = num_filter\n",
    "        self.conv1 = layers.Conv2D(num_filter, (filter_size,filter_size), padding = 'same', activation = 'relu')\n",
    "        self.conv2 = layers.Conv2D(num_filter, (filter_size,filter_size), padding = 'same', activation = 'relu')\n",
    "        self.conv3 = layers.Conv2D(1, (filter_size,filter_size), padding = 'same', activation = 'None')\n",
    "    \n",
    "    def call(self,x):\n",
    "        x = self.conv1(x)\n",
    "        x = self.conv2(x)\n",
    "        x = self.conv3(x)\n",
    "        return x\n",
    "    \n",
    "    def train_adaptive_filter(x_train, y_train, filter_size, num_filter,learning_rate, num_epoch):\n",
    "        model = AdaptiveFliter(filter_size, filter_size, learning_rate)\n",
    "        loss_fn = tf.keras.losses.MeanSquaredError()\n",
    "        optimizer = tf.keras.optimizers.Adam(learning_rate = learning_rate)\n",
    "        model.compile(optimizer = optimizer, loss = loss_fn)\n",
    "        model.fit(x_train, y_train, epochs = num_epochs)\n",
    "        return model\n",
    "        \n",
    "      "
   ]
  },
  {
   "cell_type": "code",
   "execution_count": null,
   "id": "47cdfe90",
   "metadata": {},
   "outputs": [],
   "source": []
  },
  {
   "cell_type": "code",
   "execution_count": null,
   "id": "25a7ca36",
   "metadata": {},
   "outputs": [],
   "source": []
  },
  {
   "cell_type": "code",
   "execution_count": null,
   "id": "78ebbdaf",
   "metadata": {},
   "outputs": [],
   "source": []
  },
  {
   "cell_type": "code",
   "execution_count": null,
   "id": "76e3fa1c",
   "metadata": {},
   "outputs": [],
   "source": []
  },
  {
   "cell_type": "code",
   "execution_count": null,
   "id": "292cd8dc",
   "metadata": {},
   "outputs": [],
   "source": []
  }
 ],
 "metadata": {
  "kernelspec": {
   "display_name": "Python 3 (ipykernel)",
   "language": "python",
   "name": "python3"
  },
  "language_info": {
   "codemirror_mode": {
    "name": "ipython",
    "version": 3
   },
   "file_extension": ".py",
   "mimetype": "text/x-python",
   "name": "python",
   "nbconvert_exporter": "python",
   "pygments_lexer": "ipython3",
   "version": "3.10.9"
  }
 },
 "nbformat": 4,
 "nbformat_minor": 5
}
