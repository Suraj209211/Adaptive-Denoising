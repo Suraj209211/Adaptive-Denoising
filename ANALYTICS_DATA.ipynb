{
  "nbformat": 4,
  "nbformat_minor": 0,
  "metadata": {
    "colab": {
      "private_outputs": true,
      "provenance": [],
      "gpuType": "V28",
      "authorship_tag": "ABX9TyNaU5umkKsBb8goev74iOoJ",
      "include_colab_link": true
    },
    "kernelspec": {
      "name": "python3",
      "display_name": "Python 3"
    },
    "language_info": {
      "name": "python"
    },
    "accelerator": "TPU"
  },
  "cells": [
    {
      "cell_type": "markdown",
      "metadata": {
        "id": "view-in-github",
        "colab_type": "text"
      },
      "source": [
        "<a href=\"https://colab.research.google.com/github/Suraj209211/Adaptive-Denoising/blob/main/ANALYTICS_DATA.ipynb\" target=\"_parent\"><img src=\"https://colab.research.google.com/assets/colab-badge.svg\" alt=\"Open In Colab\"/></a>"
      ]
    },
    {
      "cell_type": "code",
      "source": [
        "from google.colab import drive\n",
        "drive.mount('/content/drive')"
      ],
      "metadata": {
        "id": "Bmi37aBd4d_p"
      },
      "execution_count": null,
      "outputs": []
    },
    {
      "cell_type": "code",
      "source": [
        "import pandas as pd\n",
        "import glob\n",
        "\n",
        "# Update the glob pattern to search for CSV files within the directory\n",
        "csv_files = glob.glob('/content/drive/MyDrive/PREDICTIVE MODULE OF MINERAL EXPLORATION/PMOMEX---PREDICTIVE-MODEL-OF-MINERAL-EXPLORATION/CODE/DATA-PREPROCESSING/*.csv')\n",
        "\n",
        "dataframes = {file: pd.read_csv(file) for file in csv_files}\n",
        "\n",
        "for file, df in dataframes.items():\n",
        "    print(f\"Data from {file}:\")\n",
        "    display(df.head())\n",
        "    print(\"\\n\")"
      ],
      "metadata": {
        "id": "h1xU7Mqn5EcJ"
      },
      "execution_count": null,
      "outputs": []
    },
    {
      "cell_type": "markdown",
      "source": [
        "**FEATURE EXTRACTION**"
      ],
      "metadata": {
        "id": "H4_GJJ9KIoz-"
      }
    },
    {
      "cell_type": "code",
      "source": [],
      "metadata": {
        "id": "pDlu_tmbIlQG"
      },
      "execution_count": null,
      "outputs": []
    }
  ]
}